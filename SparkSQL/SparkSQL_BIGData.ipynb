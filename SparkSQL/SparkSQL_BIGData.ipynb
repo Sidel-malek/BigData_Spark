{
 "cells": [
  {
   "cell_type": "markdown",
   "metadata": {
    "id": "HF5Ia6qWkvoi"
   },
   "source": [
    "# 1.. Installation de PySpark\n"
   ]
  },
  {
   "cell_type": "code",
   "execution_count": null,
   "metadata": {
    "colab": {
     "base_uri": "https://localhost:8080/"
    },
    "id": "9X9lOXhmvBEy",
    "outputId": "08eced5e-b22f-4e8e-e11d-ec790ee2cb59"
   },
   "outputs": [
    {
     "name": "stdout",
     "output_type": "stream",
     "text": [
      "Requirement already satisfied: pyspark in /usr/local/lib/python3.10/dist-packages (3.5.3)\n",
      "Requirement already satisfied: py4j==0.10.9.7 in /usr/local/lib/python3.10/dist-packages (from pyspark) (0.10.9.7)\n"
     ]
    }
   ],
   "source": [
    "!pip install pyspark\n"
   ]
  },
  {
   "cell_type": "markdown",
   "metadata": {
    "id": "TGo_Y6E_xQxC"
   },
   "source": [
    "# *2. Créer un DataFrame à partir du fichier ngram.csv*"
   ]
  },
  {
   "cell_type": "code",
   "execution_count": 2,
   "metadata": {
    "id": "NRJPK_D62Kom"
   },
   "outputs": [],
   "source": [
    "from pyspark.sql import SparkSession\n",
    "from pyspark.sql.types import StructType, StructField, StringType, IntegerType\n"
   ]
  },
  {
   "cell_type": "code",
   "execution_count": 3,
   "metadata": {
    "id": "3rl8DCR80_td"
   },
   "outputs": [],
   "source": [
    "spark = SparkSession.builder.appName(\"NGramAnalysis\").getOrCreate()"
   ]
  },
  {
   "cell_type": "code",
   "execution_count": 4,
   "metadata": {
    "id": "fFmh5mN0sMJn"
   },
   "outputs": [],
   "source": [
    "# Définir un schéma avec les noms de colonnes et leurs types de données\n",
    "schema = StructType([\n",
    "    StructField(\"ngram\", StringType(), True),  # Bi-gramme lui-même\n",
    "    StructField(\"Year\", IntegerType(), True),  # Année d'apparition du bi-gramme\n",
    "    StructField(\"Count\", IntegerType(), True),  # Nombre de fois où le bi-gramme est apparu\n",
    "    StructField(\"Pages\", IntegerType(), True),  # Nombre de pages où le bi-gramme est apparu\n",
    "    StructField(\"Books\", IntegerType(), True)   # Nombre de livres distincts contenant le bi-gramme\n",
    "])"
   ]
  },
  {
   "cell_type": "code",
   "execution_count": 5,
   "metadata": {
    "colab": {
     "base_uri": "https://localhost:8080/"
    },
    "id": "lQ7pD6_j1mpZ",
    "outputId": "7468e4c9-3568-4b35-8c77-4e1b11eb0b8e"
   },
   "outputs": [
    {
     "name": "stdout",
     "output_type": "stream",
     "text": [
      "--2024-11-12 19:35:24--  http://storage.googleapis.com/books/ngrams/books/googlebooks-eng-us-all-4gram-20090715-269.csv.zip\n",
      "Resolving storage.googleapis.com (storage.googleapis.com)... 108.177.12.207, 74.125.26.207, 172.217.204.207, ...\n",
      "Connecting to storage.googleapis.com (storage.googleapis.com)|108.177.12.207|:80... connected.\n",
      "HTTP request sent, awaiting response... 200 OK\n",
      "Length: 142740409 (136M) [application/zip]\n",
      "Saving to: ‘ngram.csv.zip’\n",
      "\n",
      "ngram.csv.zip       100%[===================>] 136.13M   127MB/s    in 1.1s    \n",
      "\n",
      "2024-11-12 19:35:25 (127 MB/s) - ‘ngram.csv.zip’ saved [142740409/142740409]\n",
      "\n"
     ]
    }
   ],
   "source": [
    "!wget http://storage.googleapis.com/books/ngrams/books/googlebooks-eng-us-all-4gram-20090715-269.csv.zip -O ngram.csv.zip"
   ]
  },
  {
   "cell_type": "code",
   "execution_count": 6,
   "metadata": {
    "colab": {
     "base_uri": "https://localhost:8080/"
    },
    "id": "RNz0xdCH8yUI",
    "outputId": "2fc1ba28-b3f2-4ae0-87e2-3a8671e51a32"
   },
   "outputs": [
    {
     "name": "stdout",
     "output_type": "stream",
     "text": [
      "-rw-r--r-- 1 root root 137M Dec 23  2010 ngram.csv.zip\n"
     ]
    }
   ],
   "source": [
    "!ls -lh ngram.csv.zip\n"
   ]
  },
  {
   "cell_type": "code",
   "execution_count": 7,
   "metadata": {
    "colab": {
     "base_uri": "https://localhost:8080/"
    },
    "id": "nZyiDBzt981Q",
    "outputId": "f00586da-6493-4da0-ca82-05109802d385"
   },
   "outputs": [
    {
     "name": "stdout",
     "output_type": "stream",
     "text": [
      "Archive:  /content/ngram.csv.zip\n",
      "  inflating: /content/ngram_extracted/googlebooks-eng-us-all-4gram-20090715-269.csv  \n"
     ]
    }
   ],
   "source": [
    "#  Unzip the file\n",
    "!unzip /content/ngram.csv.zip -d /content/ngram_extracted"
   ]
  },
  {
   "cell_type": "code",
   "execution_count": 8,
   "metadata": {
    "colab": {
     "base_uri": "https://localhost:8080/"
    },
    "id": "-LMCegvs6u2Y",
    "outputId": "f3cacb2a-4be4-43c5-df33-0078992463dc"
   },
   "outputs": [
    {
     "name": "stdout",
     "output_type": "stream",
     "text": [
      "googlebooks-eng-us-all-4gram-20090715-269.csv\n"
     ]
    }
   ],
   "source": [
    "#  Verify the extraction\n",
    "!ls /content/ngram_extracted"
   ]
  },
  {
   "cell_type": "code",
   "execution_count": 10,
   "metadata": {
    "id": "-NQCh9z62dZF"
   },
   "outputs": [],
   "source": [
    "df = spark.read.csv(\"/content/ngram_extracted/*.csv\", header=False, schema=schema, sep=\"\\t\", encoding=\"UTF-8\")\n"
   ]
  },
  {
   "cell_type": "code",
   "execution_count": 11,
   "metadata": {
    "colab": {
     "base_uri": "https://localhost:8080/"
    },
    "collapsed": true,
    "id": "DeBzNVxS3GNN",
    "outputId": "a8c79317-29c4-4b1c-b4b7-3e47fe9f7f3b"
   },
   "outputs": [
    {
     "name": "stdout",
     "output_type": "stream",
     "text": [
      "+---------------+----+-----+-----+-----+\n",
      "|          ngram|Year|Count|Pages|Books|\n",
      "+---------------+----+-----+-----+-----+\n",
      "|\"! \"\" \"\" Jacob\"|1847|    1|    1|    1|\n",
      "|\"! \"\" \"\" Jacob\"|1856|    3|    3|    3|\n",
      "|\"! \"\" \"\" Jacob\"|1859|    2|    2|    2|\n",
      "|\"! \"\" \"\" Jacob\"|1867|    1|    1|    1|\n",
      "|\"! \"\" \"\" Jacob\"|1871|    1|    1|    1|\n",
      "+---------------+----+-----+-----+-----+\n",
      "only showing top 5 rows\n",
      "\n"
     ]
    }
   ],
   "source": [
    "df.show(5)"
   ]
  },
  {
   "cell_type": "code",
   "execution_count": 12,
   "metadata": {
    "colab": {
     "base_uri": "https://localhost:8080/"
    },
    "collapsed": true,
    "id": "jxC_F_5jlgpk",
    "outputId": "65cce3c6-d8fe-475d-890c-b10d73752dea"
   },
   "outputs": [
    {
     "name": "stdout",
     "output_type": "stream",
     "text": [
      "root\n",
      " |-- ngram: string (nullable = true)\n",
      " |-- Year: integer (nullable = true)\n",
      " |-- Count: integer (nullable = true)\n",
      " |-- Pages: integer (nullable = true)\n",
      " |-- Books: integer (nullable = true)\n",
      "\n"
     ]
    }
   ],
   "source": [
    "df.printSchema()"
   ]
  },
  {
   "cell_type": "markdown",
   "metadata": {
    "id": "noEaupw9xg-W"
   },
   "source": [
    "*3. Enregistrer le DataFrame en tant que table temporaire*"
   ]
  },
  {
   "cell_type": "code",
   "execution_count": 13,
   "metadata": {
    "id": "RP6Evt4-mhg6"
   },
   "outputs": [],
   "source": [
    "df.createOrReplaceTempView(\"ngrams\")\n"
   ]
  },
  {
   "cell_type": "markdown",
   "metadata": {
    "id": "DGJVbKtvxr5P"
   },
   "source": [
    "# *4. Répondre aux requêtes*"
   ]
  },
  {
   "cell_type": "markdown",
   "metadata": {
    "id": "B9nd-56tyY-b"
   },
   "source": [
    "### (1) Retourner tous les bi-grammes dont le nombre Count est supérieur à cinq"
   ]
  },
  {
   "cell_type": "code",
   "execution_count": 14,
   "metadata": {
    "colab": {
     "base_uri": "https://localhost:8080/"
    },
    "collapsed": true,
    "id": "muQe0yyEmlJj",
    "outputId": "34a77390-4013-44da-9ead-b9462c548db6"
   },
   "outputs": [
    {
     "name": "stdout",
     "output_type": "stream",
     "text": [
      "+----------------+----+-----+-----+-----+\n",
      "|           ngram|Year|Count|Pages|Books|\n",
      "+----------------+----+-----+-----+-----+\n",
      "| \"! \"\" \"\" Jacob\"|1941|    6|    6|    4|\n",
      "|\"! \"\" \"\" Others\"|1955|    6|    6|    6|\n",
      "|\"! \"\" \"\" Others\"|1968|   16|   16|   16|\n",
      "|\"! \"\" \"\" Others\"|1983|    6|    6|    6|\n",
      "|\"! \"\" \"\" Others\"|1993|   10|    6|    6|\n",
      "|\"! \"\" \"\" Others\"|1996|    6|    6|    6|\n",
      "|\"! \"\" \"\" Partly\"|1900|    6|    6|    6|\n",
      "|     \"! \"\" ( 30\"|1992|    6|    6|    6|\n",
      "|     \"! \"\" ( 30\"|1993|    6|    6|    6|\n",
      "|     \"! \"\" ( 30\"|1995|    9|    9|    9|\n",
      "|     \"! \"\" ( 30\"|1996|    6|    6|    5|\n",
      "|     \"! \"\" ( 30\"|1997|    8|    8|    8|\n",
      "|     \"! \"\" ( 30\"|1998|   10|    9|    7|\n",
      "|     \"! \"\" ( 30\"|2000|   12|   11|    8|\n",
      "|     \"! \"\" ( 30\"|2002|   10|    9|    8|\n",
      "|     \"! \"\" ( 30\"|2004|   11|   11|   10|\n",
      "|     \"! \"\" ( 30\"|2005|   11|   10|    8|\n",
      "|     \"! \"\" ( 30\"|2006|    9|    9|    9|\n",
      "|     \"! \"\" ( 30\"|2007|   15|   15|   12|\n",
      "|   \"! \"\" ( Come\"|1944|    8|    8|    8|\n",
      "+----------------+----+-----+-----+-----+\n",
      "only showing top 20 rows\n",
      "\n"
     ]
    }
   ],
   "source": [
    "#SQL\n",
    "spark.sql(\"SELECT * FROM ngrams WHERE Count > 5\").show()\n",
    "\n",
    "#API Spark\n",
    "df.filter(df[\"Count\"] > 5).show()\n"
   ]
  },
  {
   "cell_type": "markdown",
   "metadata": {
    "id": "cUUBZV1PyiuX"
   },
   "source": [
    "### (2) Retourner le nombre total de bi-grammes dans chaque année\n"
   ]
  },
  {
   "cell_type": "code",
   "execution_count": null,
   "metadata": {
    "colab": {
     "base_uri": "https://localhost:8080/"
    },
    "collapsed": true,
    "id": "yf9aCeJAspb4",
    "outputId": "d574f90b-6e2d-4c84-a07a-69d2a1400a97"
   },
   "outputs": [
    {
     "name": "stdout",
     "output_type": "stream",
     "text": [
      "+----+-------------+\n",
      "|Year|total_bigrams|\n",
      "+----+-------------+\n",
      "|1959|       192841|\n",
      "|1829|        32044|\n",
      "|1896|       130771|\n",
      "|1990|       276657|\n",
      "|1903|       142959|\n",
      "|1975|       247752|\n",
      "|1884|       113475|\n",
      "|1977|       249836|\n",
      "|1888|       118889|\n",
      "|1787|          591|\n",
      "|1766|           22|\n",
      "|1808|        10546|\n",
      "|1743|          136|\n",
      "|1863|        54204|\n",
      "|1924|       136632|\n",
      "|2003|       336315|\n",
      "|1823|        19295|\n",
      "|1745|            6|\n",
      "|2007|       326312|\n",
      "|1869|        85276|\n",
      "+----+-------------+\n",
      "only showing top 20 rows\n",
      "\n"
     ]
    }
   ],
   "source": [
    "#SQL\n",
    "spark.sql(\"SELECT Year, COUNT(ngram) AS total_bigrams FROM ngrams GROUP BY Year\").show()\n",
    "#API Spark\n",
    "df.groupBy(\"Year\").count().show()"
   ]
  },
  {
   "cell_type": "markdown",
   "metadata": {
    "id": "csDehkwCyno7"
   },
   "source": [
    "### (3) Retourner les bi-grammes qui ont le plus grand nombre de Count dans chaque année\n"
   ]
  },
  {
   "cell_type": "code",
   "execution_count": null,
   "metadata": {
    "colab": {
     "base_uri": "https://localhost:8080/"
    },
    "collapsed": true,
    "id": "2XVxRDlEtTag",
    "outputId": "a9bdf254-ca10-4de5-e16e-8fbb00b57c2f"
   },
   "outputs": [
    {
     "name": "stdout",
     "output_type": "stream",
     "text": [
      "+----+-----+---------+\n",
      "|Year|ngram|max_count|\n",
      "+----+-----+---------+\n",
      "|1780| ! 09|        1|\n",
      "|1803| ! 09|        1|\n",
      "|1806| ! 09|        1|\n",
      "|1823| ! 09|        1|\n",
      "|1824| ! 09|        1|\n",
      "|1825| ! 09|        1|\n",
      "|1829| ! 09|        3|\n",
      "|1830| ! 09|        2|\n",
      "|1831| ! 09|        1|\n",
      "|1833| ! 09|        1|\n",
      "|1834| ! 09|        4|\n",
      "|1836| ! 09|        1|\n",
      "|1839| ! 09|        1|\n",
      "|1840| ! 09|        1|\n",
      "|1841| ! 09|        2|\n",
      "|1845| ! 09|        1|\n",
      "|1847| ! 09|        2|\n",
      "|1848| ! 09|        1|\n",
      "|1856| ! 09|        1|\n",
      "|1857| ! 09|        2|\n",
      "+----+-----+---------+\n",
      "only showing top 20 rows\n",
      "\n",
      "+----+-----+---------+\n",
      "|Year|ngram|max_count|\n",
      "+----+-----+---------+\n",
      "|1780| ! 09|        1|\n",
      "|1803| ! 09|        1|\n",
      "|1806| ! 09|        1|\n",
      "|1823| ! 09|        1|\n",
      "|1824| ! 09|        1|\n",
      "|1825| ! 09|        1|\n",
      "|1829| ! 09|        3|\n",
      "|1830| ! 09|        2|\n",
      "|1831| ! 09|        1|\n",
      "|1833| ! 09|        1|\n",
      "|1834| ! 09|        4|\n",
      "|1836| ! 09|        1|\n",
      "|1839| ! 09|        1|\n",
      "|1840| ! 09|        1|\n",
      "|1841| ! 09|        2|\n",
      "|1845| ! 09|        1|\n",
      "|1847| ! 09|        2|\n",
      "|1848| ! 09|        1|\n",
      "|1856| ! 09|        1|\n",
      "|1857| ! 09|        2|\n",
      "+----+-----+---------+\n",
      "only showing top 20 rows\n",
      "\n"
     ]
    }
   ],
   "source": [
    "#SQL\n",
    "spark.sql(\"\"\"\n",
    "SELECT Year, ngram, MAX(Count) AS max_count\n",
    "FROM ngrams\n",
    "GROUP BY Year, ngram\n",
    "ORDER BY Year ASC\n",
    "\"\"\").show()\n",
    "\n",
    "#API sparkSQL\n",
    "from pyspark.sql import functions as F\n",
    "\n",
    "df.groupBy(\"Year\", \"ngram\").agg(F.max(\"Count\").alias(\"max_count\")).orderBy(\"Year\").show()\n"
   ]
  },
  {
   "cell_type": "markdown",
   "metadata": {
    "id": "Vn5RFgRSys_6"
   },
   "source": [
    "### (4) Retourner tous les bi-grammes qui sont apparus dans 20 années différentes\n"
   ]
  },
  {
   "cell_type": "code",
   "execution_count": null,
   "metadata": {
    "colab": {
     "base_uri": "https://localhost:8080/"
    },
    "id": "Q6iaO363tqz4",
    "outputId": "4041cd35-a7e7-42b6-e380-8a7e8144f19b"
   },
   "outputs": [
    {
     "name": "stdout",
     "output_type": "stream",
     "text": [
      "+-----+\n",
      "|ngram|\n",
      "+-----+\n",
      "+-----+\n",
      "\n",
      "+-----+-----------+\n",
      "|ngram|years_count|\n",
      "+-----+-----------+\n",
      "+-----+-----------+\n",
      "\n"
     ]
    }
   ],
   "source": [
    "#SQL\n",
    "spark.sql(\"\"\"\n",
    "SELECT ngram\n",
    "FROM ngrams\n",
    "GROUP BY ngram\n",
    "HAVING COUNT(DISTINCT Year) = 20\n",
    "\"\"\").show()\n",
    "#API sparkSQL\n",
    "df.groupBy(\"ngram\").agg(F.countDistinct(\"Year\").alias(\"years_count\")).filter(\"years_count = 20\").show()\n"
   ]
  },
  {
   "cell_type": "markdown",
   "metadata": {
    "id": "T3SKRYDdyv7g"
   },
   "source": [
    "### (5) Retourner tous les bi-grammes qui contiennent ! dans la première partie et 9 dans la deuxième partie\n"
   ]
  },
  {
   "cell_type": "code",
   "execution_count": null,
   "metadata": {
    "id": "CZbiWUwxwHUy"
   },
   "outputs": [],
   "source": [
    "#SQL\n",
    "spark.sql(\"\"\"\n",
    "SELECT *\n",
    "FROM ngrams\n",
    "WHERE ngram LIKE '! % 9'\n",
    "\"\"\").show()\n",
    "\n",
    "#API sparkSQL\n",
    "df.filter(df[\"ngram\"].like(\"!% 9\")).show()\n"
   ]
  },
  {
   "cell_type": "markdown",
   "metadata": {
    "id": "MB_YBu48yx_p"
   },
   "source": [
    "### (6) Retourner les bi-grammes qui sont apparus dans toutes les années présentes dans les données\n"
   ]
  },
  {
   "cell_type": "code",
   "execution_count": null,
   "metadata": {
    "id": "P0tn2u9LwUuN"
   },
   "outputs": [],
   "source": [
    "#SQL\n",
    "total_years = spark.sql(\"SELECT COUNT(DISTINCT Year) as total_years FROM ngrams\").collect()[0][\"total_years\"]\n",
    "spark.sql(f\"\"\"\n",
    "SELECT ngram\n",
    "FROM ngrams\n",
    "GROUP BY ngram\n",
    "HAVING COUNT(DISTINCT Year) = {total_years}\n",
    "\"\"\").show()\n",
    "\n",
    "#API sparkSQL\n",
    "total_years = df.select(F.countDistinct(\"Year\")).collect()[0][0]\n",
    "\n",
    "df.groupBy(\"ngram\").agg(F.countDistinct(\"Year\").alias(\"year_count\")).filter(f\"year_count = {total_years}\").show()\n"
   ]
  },
  {
   "cell_type": "markdown",
   "metadata": {
    "id": "Lez1sqhOy0Oi"
   },
   "source": [
    "### (7) Retourner le nombre total de pages et de livres dans lesquels chaque bi-gramme apparaît, trié par ordre alphabétique\n"
   ]
  },
  {
   "cell_type": "code",
   "execution_count": null,
   "metadata": {
    "id": "FPvpr9Y4wfIQ"
   },
   "outputs": [],
   "source": [
    "#SQL\n",
    "spark.sql(\"\"\"\n",
    "SELECT ngram, SUM(Pages) AS total_pages, SUM(Books) AS total_books\n",
    "FROM ngrams\n",
    "GROUP BY ngram\n",
    "ORDER BY ngram ASC\n",
    "\"\"\").show()\n",
    "\n",
    "#API sparkSQL\n",
    "df.groupBy(\"ngram\").agg(F.sum(\"Pages\").alias(\"total_pages\"), F.sum(\"Books\").alias(\"total_books\")).orderBy(\"ngram\").show()\n"
   ]
  },
  {
   "cell_type": "markdown",
   "metadata": {
    "id": "tokNPtCCy2Zk"
   },
   "source": [
    "### (8) Retourner le nombre total de bi-grammes différents dans chaque année, trié par ordre décroissant de l'année\n"
   ]
  },
  {
   "cell_type": "code",
   "execution_count": null,
   "metadata": {
    "id": "L0MMtPkcwn8q"
   },
   "outputs": [],
   "source": [
    "#SQL\n",
    "spark.sql(\"\"\"\n",
    "SELECT Year, COUNT(DISTINCT ngram) AS total_bigrams\n",
    "FROM ngrams\n",
    "GROUP BY Year\n",
    "ORDER BY Year DESC\n",
    "\"\"\").show()\n",
    "\n",
    "#API sparkSQL\n",
    "df.groupBy(\"Year\").agg(F.countDistinct(\"ngram\").alias(\"total_bigrams\")).orderBy(F.desc(\"Year\")).show()\n"
   ]
  }
 ],
 "metadata": {
  "colab": {
   "provenance": []
  },
  "kernelspec": {
   "display_name": "Python 3",
   "name": "python3"
  },
  "language_info": {
   "name": "python"
  }
 },
 "nbformat": 4,
 "nbformat_minor": 0
}
