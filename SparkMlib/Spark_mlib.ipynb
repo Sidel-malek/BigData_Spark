{
  "nbformat": 4,
  "nbformat_minor": 0,
  "metadata": {
    "colab": {
      "provenance": []
    },
    "kernelspec": {
      "name": "python3",
      "display_name": "Python 3"
    },
    "language_info": {
      "name": "python"
    }
  },
  "cells": [
    {
      "cell_type": "code",
      "execution_count": null,
      "metadata": {
        "colab": {
          "base_uri": "https://localhost:8080/"
        },
        "id": "rbIx_CaZtKE_",
        "outputId": "40bf9e3d-1c62-40ac-9377-88f9a582f42b"
      },
      "outputs": [
        {
          "output_type": "stream",
          "name": "stdout",
          "text": [
            "Requirement already satisfied: pyspark in /usr/local/lib/python3.10/dist-packages (3.5.3)\n",
            "Requirement already satisfied: py4j==0.10.9.7 in /usr/local/lib/python3.10/dist-packages (from pyspark) (0.10.9.7)\n"
          ]
        }
      ],
      "source": [
        "!pip install pyspark\n",
        "from pyspark.sql import SparkSession\n",
        "\n",
        "# Créer une session Spark\n",
        "spark = SparkSession.builder.appName(\"TP4_SparkMLlib\").getOrCreate()\n"
      ]
    },
    {
      "cell_type": "markdown",
      "source": [
        "**1 : Charger les fichiers**"
      ],
      "metadata": {
        "id": "NEBjCuyexEcf"
      }
    },
    {
      "cell_type": "code",
      "source": [
        "from google.colab import files\n",
        "uploaded = files.upload()"
      ],
      "metadata": {
        "colab": {
          "base_uri": "https://localhost:8080/",
          "height": 819
        },
        "id": "FZhCXDkqvbdH",
        "outputId": "df74f799-d770-480e-a4bf-4ef5169865a7"
      },
      "execution_count": null,
      "outputs": [
        {
          "output_type": "display_data",
          "data": {
            "text/plain": [
              "<IPython.core.display.HTML object>"
            ],
            "text/html": [
              "\n",
              "     <input type=\"file\" id=\"files-bf9e78c1-35f2-4970-9e3c-f558f6443aad\" name=\"files[]\" multiple disabled\n",
              "        style=\"border:none\" />\n",
              "     <output id=\"result-bf9e78c1-35f2-4970-9e3c-f558f6443aad\">\n",
              "      Upload widget is only available when the cell has been executed in the\n",
              "      current browser session. Please rerun this cell to enable.\n",
              "      </output>\n",
              "      <script>// Copyright 2017 Google LLC\n",
              "//\n",
              "// Licensed under the Apache License, Version 2.0 (the \"License\");\n",
              "// you may not use this file except in compliance with the License.\n",
              "// You may obtain a copy of the License at\n",
              "//\n",
              "//      http://www.apache.org/licenses/LICENSE-2.0\n",
              "//\n",
              "// Unless required by applicable law or agreed to in writing, software\n",
              "// distributed under the License is distributed on an \"AS IS\" BASIS,\n",
              "// WITHOUT WARRANTIES OR CONDITIONS OF ANY KIND, either express or implied.\n",
              "// See the License for the specific language governing permissions and\n",
              "// limitations under the License.\n",
              "\n",
              "/**\n",
              " * @fileoverview Helpers for google.colab Python module.\n",
              " */\n",
              "(function(scope) {\n",
              "function span(text, styleAttributes = {}) {\n",
              "  const element = document.createElement('span');\n",
              "  element.textContent = text;\n",
              "  for (const key of Object.keys(styleAttributes)) {\n",
              "    element.style[key] = styleAttributes[key];\n",
              "  }\n",
              "  return element;\n",
              "}\n",
              "\n",
              "// Max number of bytes which will be uploaded at a time.\n",
              "const MAX_PAYLOAD_SIZE = 100 * 1024;\n",
              "\n",
              "function _uploadFiles(inputId, outputId) {\n",
              "  const steps = uploadFilesStep(inputId, outputId);\n",
              "  const outputElement = document.getElementById(outputId);\n",
              "  // Cache steps on the outputElement to make it available for the next call\n",
              "  // to uploadFilesContinue from Python.\n",
              "  outputElement.steps = steps;\n",
              "\n",
              "  return _uploadFilesContinue(outputId);\n",
              "}\n",
              "\n",
              "// This is roughly an async generator (not supported in the browser yet),\n",
              "// where there are multiple asynchronous steps and the Python side is going\n",
              "// to poll for completion of each step.\n",
              "// This uses a Promise to block the python side on completion of each step,\n",
              "// then passes the result of the previous step as the input to the next step.\n",
              "function _uploadFilesContinue(outputId) {\n",
              "  const outputElement = document.getElementById(outputId);\n",
              "  const steps = outputElement.steps;\n",
              "\n",
              "  const next = steps.next(outputElement.lastPromiseValue);\n",
              "  return Promise.resolve(next.value.promise).then((value) => {\n",
              "    // Cache the last promise value to make it available to the next\n",
              "    // step of the generator.\n",
              "    outputElement.lastPromiseValue = value;\n",
              "    return next.value.response;\n",
              "  });\n",
              "}\n",
              "\n",
              "/**\n",
              " * Generator function which is called between each async step of the upload\n",
              " * process.\n",
              " * @param {string} inputId Element ID of the input file picker element.\n",
              " * @param {string} outputId Element ID of the output display.\n",
              " * @return {!Iterable<!Object>} Iterable of next steps.\n",
              " */\n",
              "function* uploadFilesStep(inputId, outputId) {\n",
              "  const inputElement = document.getElementById(inputId);\n",
              "  inputElement.disabled = false;\n",
              "\n",
              "  const outputElement = document.getElementById(outputId);\n",
              "  outputElement.innerHTML = '';\n",
              "\n",
              "  const pickedPromise = new Promise((resolve) => {\n",
              "    inputElement.addEventListener('change', (e) => {\n",
              "      resolve(e.target.files);\n",
              "    });\n",
              "  });\n",
              "\n",
              "  const cancel = document.createElement('button');\n",
              "  inputElement.parentElement.appendChild(cancel);\n",
              "  cancel.textContent = 'Cancel upload';\n",
              "  const cancelPromise = new Promise((resolve) => {\n",
              "    cancel.onclick = () => {\n",
              "      resolve(null);\n",
              "    };\n",
              "  });\n",
              "\n",
              "  // Wait for the user to pick the files.\n",
              "  const files = yield {\n",
              "    promise: Promise.race([pickedPromise, cancelPromise]),\n",
              "    response: {\n",
              "      action: 'starting',\n",
              "    }\n",
              "  };\n",
              "\n",
              "  cancel.remove();\n",
              "\n",
              "  // Disable the input element since further picks are not allowed.\n",
              "  inputElement.disabled = true;\n",
              "\n",
              "  if (!files) {\n",
              "    return {\n",
              "      response: {\n",
              "        action: 'complete',\n",
              "      }\n",
              "    };\n",
              "  }\n",
              "\n",
              "  for (const file of files) {\n",
              "    const li = document.createElement('li');\n",
              "    li.append(span(file.name, {fontWeight: 'bold'}));\n",
              "    li.append(span(\n",
              "        `(${file.type || 'n/a'}) - ${file.size} bytes, ` +\n",
              "        `last modified: ${\n",
              "            file.lastModifiedDate ? file.lastModifiedDate.toLocaleDateString() :\n",
              "                                    'n/a'} - `));\n",
              "    const percent = span('0% done');\n",
              "    li.appendChild(percent);\n",
              "\n",
              "    outputElement.appendChild(li);\n",
              "\n",
              "    const fileDataPromise = new Promise((resolve) => {\n",
              "      const reader = new FileReader();\n",
              "      reader.onload = (e) => {\n",
              "        resolve(e.target.result);\n",
              "      };\n",
              "      reader.readAsArrayBuffer(file);\n",
              "    });\n",
              "    // Wait for the data to be ready.\n",
              "    let fileData = yield {\n",
              "      promise: fileDataPromise,\n",
              "      response: {\n",
              "        action: 'continue',\n",
              "      }\n",
              "    };\n",
              "\n",
              "    // Use a chunked sending to avoid message size limits. See b/62115660.\n",
              "    let position = 0;\n",
              "    do {\n",
              "      const length = Math.min(fileData.byteLength - position, MAX_PAYLOAD_SIZE);\n",
              "      const chunk = new Uint8Array(fileData, position, length);\n",
              "      position += length;\n",
              "\n",
              "      const base64 = btoa(String.fromCharCode.apply(null, chunk));\n",
              "      yield {\n",
              "        response: {\n",
              "          action: 'append',\n",
              "          file: file.name,\n",
              "          data: base64,\n",
              "        },\n",
              "      };\n",
              "\n",
              "      let percentDone = fileData.byteLength === 0 ?\n",
              "          100 :\n",
              "          Math.round((position / fileData.byteLength) * 100);\n",
              "      percent.textContent = `${percentDone}% done`;\n",
              "\n",
              "    } while (position < fileData.byteLength);\n",
              "  }\n",
              "\n",
              "  // All done.\n",
              "  yield {\n",
              "    response: {\n",
              "      action: 'complete',\n",
              "    }\n",
              "  };\n",
              "}\n",
              "\n",
              "scope.google = scope.google || {};\n",
              "scope.google.colab = scope.google.colab || {};\n",
              "scope.google.colab._files = {\n",
              "  _uploadFiles,\n",
              "  _uploadFilesContinue,\n",
              "};\n",
              "})(self);\n",
              "</script> "
            ]
          },
          "metadata": {}
        },
        {
          "output_type": "stream",
          "name": "stdout",
          "text": [
            "Saving 2010-12-01.csv to 2010-12-01.csv\n",
            "Saving 2010-12-02.csv to 2010-12-02.csv\n",
            "Saving 2010-12-03.csv to 2010-12-03.csv\n",
            "Saving 2010-12-05.csv to 2010-12-05.csv\n",
            "Saving 2010-12-06.csv to 2010-12-06.csv\n",
            "Saving 2010-12-07.csv to 2010-12-07.csv\n",
            "Saving 2010-12-08.csv to 2010-12-08.csv\n",
            "Saving 2010-12-09.csv to 2010-12-09.csv\n",
            "Saving 2010-12-10.csv to 2010-12-10.csv\n",
            "Saving 2010-12-12.csv to 2010-12-12.csv\n",
            "Saving 2010-12-13.csv to 2010-12-13.csv\n",
            "Saving 2010-12-14.csv to 2010-12-14.csv\n",
            "Saving 2010-12-15.csv to 2010-12-15.csv\n",
            "Saving 2010-12-16.csv to 2010-12-16.csv\n",
            "Saving 2010-12-17.csv to 2010-12-17.csv\n",
            "Saving 2010-12-19.csv to 2010-12-19.csv\n",
            "Saving 2010-12-20.csv to 2010-12-20.csv\n",
            "Saving 2010-12-21.csv to 2010-12-21.csv\n",
            "Saving 2010-12-22.csv to 2010-12-22.csv\n",
            "Saving 2010-12-23.csv to 2010-12-23.csv\n",
            "Saving 2011-01-04.csv to 2011-01-04.csv\n",
            "Saving 2011-01-05.csv to 2011-01-05.csv\n"
          ]
        }
      ]
    },
    {
      "cell_type": "markdown",
      "source": [
        "**- charger les données**"
      ],
      "metadata": {
        "id": "Uax4q9x8xXPD"
      }
    },
    {
      "cell_type": "code",
      "source": [
        "# Charger les fichiers du dossier tp4_data dans un DataFrame Spark\n",
        "df = spark.read.csv(\"/content/*.csv\", header=True, inferSchema=True)\n",
        "\n",
        "# Afficher les premières lignes\n",
        "df.show(5)\n"
      ],
      "metadata": {
        "colab": {
          "base_uri": "https://localhost:8080/"
        },
        "id": "eeUvtpUQv_I-",
        "outputId": "2a64c5c3-9f39-44c2-aedb-8809ad517ad5"
      },
      "execution_count": null,
      "outputs": [
        {
          "output_type": "stream",
          "name": "stdout",
          "text": [
            "+---------+---------+--------------------+--------+-------------------+---------+----------+--------------+\n",
            "|InvoiceNo|StockCode|         Description|Quantity|        InvoiceDate|UnitPrice|CustomerID|       Country|\n",
            "+---------+---------+--------------------+--------+-------------------+---------+----------+--------------+\n",
            "|   537226|    22811|SET OF 6 T-LIGHTS...|       6|2010-12-06 08:34:00|     2.95|   15987.0|United Kingdom|\n",
            "|   537226|    21713|CITRONELLA CANDLE...|       8|2010-12-06 08:34:00|      2.1|   15987.0|United Kingdom|\n",
            "|   537226|    22927|GREEN GIANT GARDE...|       2|2010-12-06 08:34:00|     5.95|   15987.0|United Kingdom|\n",
            "|   537226|    20802|SMALL GLASS SUNDA...|       6|2010-12-06 08:34:00|     1.65|   15987.0|United Kingdom|\n",
            "|   537226|    22052|VINTAGE CARAVAN G...|      25|2010-12-06 08:34:00|     0.42|   15987.0|United Kingdom|\n",
            "+---------+---------+--------------------+--------+-------------------+---------+----------+--------------+\n",
            "only showing top 5 rows\n",
            "\n"
          ]
        }
      ]
    },
    {
      "cell_type": "markdown",
      "source": [
        "**2: Afficher le schéma du DataFrame**"
      ],
      "metadata": {
        "id": "VipkdcLrxfdO"
      }
    },
    {
      "cell_type": "code",
      "source": [
        "# Afficher le schéma du DataFrame\n",
        "df.printSchema()\n"
      ],
      "metadata": {
        "colab": {
          "base_uri": "https://localhost:8080/"
        },
        "id": "LSRFqlH3wRCB",
        "outputId": "fc65015a-35c7-41ba-f809-cc02de3bddca"
      },
      "execution_count": null,
      "outputs": [
        {
          "output_type": "stream",
          "name": "stdout",
          "text": [
            "root\n",
            " |-- InvoiceNo: string (nullable = true)\n",
            " |-- StockCode: string (nullable = true)\n",
            " |-- Description: string (nullable = true)\n",
            " |-- Quantity: integer (nullable = true)\n",
            " |-- InvoiceDate: timestamp (nullable = true)\n",
            " |-- UnitPrice: double (nullable = true)\n",
            " |-- CustomerID: double (nullable = true)\n",
            " |-- Country: string (nullable = true)\n",
            "\n"
          ]
        }
      ]
    },
    {
      "cell_type": "markdown",
      "source": [
        "**3: Remplir les valeurs manquantes avec 0**"
      ],
      "metadata": {
        "id": "e4dB59ypxj58"
      }
    },
    {
      "cell_type": "code",
      "source": [
        "# Remplir les valeurs manquantes (NaN) avec la valeur 0\n",
        "df = df.fillna(0)\n"
      ],
      "metadata": {
        "id": "JjDzVZyfwWLX"
      },
      "execution_count": null,
      "outputs": []
    },
    {
      "cell_type": "markdown",
      "source": [
        "**4 : Ajouter la colonne \"day_of_week\"**"
      ],
      "metadata": {
        "id": "t7I3wdn7xpg3"
      }
    },
    {
      "cell_type": "code",
      "source": [
        "from pyspark.sql.functions import dayofweek, to_date , date_format\n",
        "\n",
        "# Convertir la colonne InvoiceDate en format date\n",
        "df = df.withColumn(\"InvoiceDate\", to_date(df[\"InvoiceDate\"], \"yyyy-MM-dd\"))\n",
        "df.show(5)\n",
        "\n",
        "\n",
        "# Ajouter une nouvelle colonne \"day_of_week\" représentant le jour de la semaine\n",
        "#df = df.withColumn(\"day_of_week\", dayofweek(\"InvoiceDate\"))\n",
        "df = df.withColumn(\"day_of_week\", date_format(\"InvoiceDate\", \"EEEE\"))\n",
        "\n",
        "df.select(\"day_of_week\").distinct().show()\n"
      ],
      "metadata": {
        "colab": {
          "base_uri": "https://localhost:8080/"
        },
        "id": "YWptEPtZwbHC",
        "outputId": "b41f4e65-c575-4ab6-bbfb-758b92d03bce"
      },
      "execution_count": null,
      "outputs": [
        {
          "output_type": "stream",
          "name": "stdout",
          "text": [
            "+---------+---------+--------------------+--------+-----------+---------+----------+--------------+-----------+\n",
            "|InvoiceNo|StockCode|         Description|Quantity|InvoiceDate|UnitPrice|CustomerID|       Country|day_of_week|\n",
            "+---------+---------+--------------------+--------+-----------+---------+----------+--------------+-----------+\n",
            "|   537226|    22811|SET OF 6 T-LIGHTS...|       6| 2010-12-06|     2.95|   15987.0|United Kingdom|     Monday|\n",
            "|   537226|    21713|CITRONELLA CANDLE...|       8| 2010-12-06|      2.1|   15987.0|United Kingdom|     Monday|\n",
            "|   537226|    22927|GREEN GIANT GARDE...|       2| 2010-12-06|     5.95|   15987.0|United Kingdom|     Monday|\n",
            "|   537226|    20802|SMALL GLASS SUNDA...|       6| 2010-12-06|     1.65|   15987.0|United Kingdom|     Monday|\n",
            "|   537226|    22052|VINTAGE CARAVAN G...|      25| 2010-12-06|     0.42|   15987.0|United Kingdom|     Monday|\n",
            "+---------+---------+--------------------+--------+-----------+---------+----------+--------------+-----------+\n",
            "only showing top 5 rows\n",
            "\n",
            "+-----------+\n",
            "|day_of_week|\n",
            "+-----------+\n",
            "|  Wednesday|\n",
            "|    Tuesday|\n",
            "|     Friday|\n",
            "|   Thursday|\n",
            "|     Monday|\n",
            "|     Sunday|\n",
            "+-----------+\n",
            "\n"
          ]
        }
      ]
    },
    {
      "cell_type": "markdown",
      "source": [
        "**5: Diviser les données en ensemble d'apprentissage et de test**"
      ],
      "metadata": {
        "id": "-UTWyozPxyU9"
      }
    },
    {
      "cell_type": "code",
      "source": [
        "# Séparer les données selon la date\n",
        "training_df = df.filter(df[\"InvoiceDate\"] < \"2010-12-13\")\n",
        "test_df = df.filter(df[\"InvoiceDate\"] >= \"2010-12-13\")\n"
      ],
      "metadata": {
        "id": "eE6KQpe7wjgC"
      },
      "execution_count": null,
      "outputs": []
    },
    {
      "cell_type": "markdown",
      "source": [
        "**6: Créer un StringIndexer**\n",
        "**7: Discussion sur l'ordre implicite des jours**\n",
        "L'utilisation de StringIndexer crée une numérotation arbitraire pour les jours de la semaine. Pour éviter l'ordre implicite (exemple : 6 pour Samedi et 1 pour Lundi), il est possible d'utiliser OneHotEncoder ou VectorAssembler pour transformer les jours en vecteurs d'indicateurs."
      ],
      "metadata": {
        "id": "QE27zllqx3ml"
      }
    },
    {
      "cell_type": "code",
      "source": [
        "from pyspark.ml.feature import StringIndexer, OneHotEncoder\n",
        "\n",
        "# Créer un StringIndexer pour la colonne \"day_of_week\"\n",
        "indexer = StringIndexer(inputCol=\"day_of_week\", outputCol=\"day_of_week_indexed\")\n",
        "index_df = indexer.fit(df).transform(df)\n",
        "# Afficher pour vérifier que day_of_week_indexed est créé\n",
        "index_df.select(\"InvoiceDate\", \"day_of_week\", \"day_of_week_indexed\").show(5)\n",
        "\n",
        "# Étape 2 : Appliquer OneHotEncoder sur day_of_week_indexed\n",
        "encoder = OneHotEncoder(inputCol=\"day_of_week_indexed\", outputCol=\"day_of_week_encoded\")\n",
        "df_encoded = encoder.fit(index_df).transform(index_df)\n",
        "\n",
        "\n",
        "# Afficher le DataFrame final avec les colonnes encodées\n",
        "df_encoded.select(\"InvoiceDate\", \"day_of_week\", \"day_of_week_indexed\", \"day_of_week_encoded\").show(5)"
      ],
      "metadata": {
        "colab": {
          "base_uri": "https://localhost:8080/"
        },
        "id": "s57RV_iZwo0h",
        "outputId": "daa0c1f0-e457-4f65-986a-c8a76c68e916"
      },
      "execution_count": null,
      "outputs": [
        {
          "output_type": "stream",
          "name": "stdout",
          "text": [
            "+-----------+-----------+-------------------+\n",
            "|InvoiceDate|day_of_week|day_of_week_indexed|\n",
            "+-----------+-----------+-------------------+\n",
            "| 2010-12-06|     Monday|                2.0|\n",
            "| 2010-12-06|     Monday|                2.0|\n",
            "| 2010-12-06|     Monday|                2.0|\n",
            "| 2010-12-06|     Monday|                2.0|\n",
            "| 2010-12-06|     Monday|                2.0|\n",
            "+-----------+-----------+-------------------+\n",
            "only showing top 5 rows\n",
            "\n",
            "+-----------+-----------+-------------------+-------------------+\n",
            "|InvoiceDate|day_of_week|day_of_week_indexed|day_of_week_encoded|\n",
            "+-----------+-----------+-------------------+-------------------+\n",
            "| 2010-12-06|     Monday|                2.0|      (5,[2],[1.0])|\n",
            "| 2010-12-06|     Monday|                2.0|      (5,[2],[1.0])|\n",
            "| 2010-12-06|     Monday|                2.0|      (5,[2],[1.0])|\n",
            "| 2010-12-06|     Monday|                2.0|      (5,[2],[1.0])|\n",
            "| 2010-12-06|     Monday|                2.0|      (5,[2],[1.0])|\n",
            "+-----------+-----------+-------------------+-------------------+\n",
            "only showing top 5 rows\n",
            "\n"
          ]
        }
      ]
    },
    {
      "cell_type": "markdown",
      "source": [
        "**9: Créer un VectorAssembler**"
      ],
      "metadata": {
        "id": "96SDTxIoyFNp"
      }
    },
    {
      "cell_type": "code",
      "source": [
        "from pyspark.ml.feature import VectorAssembler\n",
        "\n",
        "# Créer le VectorAssembler pour combiner UnitPrice, Quantity, et day_of_week_encoded\n",
        "assembler = VectorAssembler(inputCols=[\"UnitPrice\", \"Quantity\", \"day_of_week_encoded\"], outputCol=\"features\")\n",
        "df_final = assembler.transform(df_encoded)\n",
        "\n",
        "# Afficher les résultats\n",
        "df_final.select(\"UnitPrice\", \"Quantity\", \"day_of_week_encoded\", \"features\").show(5)"
      ],
      "metadata": {
        "id": "dNiTTF7JyPPY",
        "colab": {
          "base_uri": "https://localhost:8080/"
        },
        "outputId": "e27379e7-74c7-40d7-bf50-d8ca5e030e1d"
      },
      "execution_count": null,
      "outputs": [
        {
          "output_type": "stream",
          "name": "stdout",
          "text": [
            "+---------+--------+-------------------+--------------------+\n",
            "|UnitPrice|Quantity|day_of_week_encoded|            features|\n",
            "+---------+--------+-------------------+--------------------+\n",
            "|     2.95|       6|      (5,[2],[1.0])|(7,[0,1,4],[2.95,...|\n",
            "|      2.1|       8|      (5,[2],[1.0])|(7,[0,1,4],[2.1,8...|\n",
            "|     5.95|       2|      (5,[2],[1.0])|(7,[0,1,4],[5.95,...|\n",
            "|     1.65|       6|      (5,[2],[1.0])|(7,[0,1,4],[1.65,...|\n",
            "|     0.42|      25|      (5,[2],[1.0])|(7,[0,1,4],[0.42,...|\n",
            "+---------+--------+-------------------+--------------------+\n",
            "only showing top 5 rows\n",
            "\n"
          ]
        }
      ]
    },
    {
      "cell_type": "markdown",
      "source": [
        "**10: Créer un pipeline avec les étapes précédentes**"
      ],
      "metadata": {
        "id": "y-9PotpeyQWO"
      }
    },
    {
      "cell_type": "code",
      "source": [
        "from pyspark.ml import Pipeline\n",
        "\n",
        "# Créer un pipeline avec indexer et assembler\n",
        "pipeline = Pipeline(stages=[indexer, encoder, assembler])\n"
      ],
      "metadata": {
        "id": "afKr5TjWyWAj"
      },
      "execution_count": null,
      "outputs": []
    },
    {
      "cell_type": "markdown",
      "source": [
        "**11: Indexer des valeurs uniques**\n",
        "\n",
        "---\n",
        "\n",
        "\n",
        "StringIndexer gère automatiquement le nombre de valeurs uniques, donc il n'est pas nécessaire de faire un traitement supplémentaire. La méthode .fit() entraîne l'indexeur en tenant compte des valeurs uniques de la colonne."
      ],
      "metadata": {
        "id": "wvostXFAyYZ4"
      }
    },
    {
      "cell_type": "markdown",
      "source": [
        "**12: Transformer les données d'apprentissage**"
      ],
      "metadata": {
        "id": "zLr5xRoWyrmD"
      }
    },
    {
      "cell_type": "code",
      "source": [
        "# Ajuster et transformer les données d'apprentissage\n",
        "model = pipeline.fit(training_df)\n",
        "df_train_transformed = model.transform(training_df)\n",
        "df_train_transformed.show(5)\n"
      ],
      "metadata": {
        "id": "uRBSl4ksyeFA",
        "colab": {
          "base_uri": "https://localhost:8080/"
        },
        "outputId": "ab76eb26-28a9-411d-e938-7acb9a72bef3"
      },
      "execution_count": null,
      "outputs": [
        {
          "output_type": "stream",
          "name": "stdout",
          "text": [
            "+---------+---------+--------------------+--------+-----------+---------+----------+--------------+-----------+-------------------+-------------------+--------------------+\n",
            "|InvoiceNo|StockCode|         Description|Quantity|InvoiceDate|UnitPrice|CustomerID|       Country|day_of_week|day_of_week_indexed|day_of_week_encoded|            features|\n",
            "+---------+---------+--------------------+--------+-----------+---------+----------+--------------+-----------+-------------------+-------------------+--------------------+\n",
            "|   537226|    22811|SET OF 6 T-LIGHTS...|       6| 2010-12-06|     2.95|   15987.0|United Kingdom|     Monday|                4.0|      (5,[4],[1.0])|(7,[0,1,6],[2.95,...|\n",
            "|   537226|    21713|CITRONELLA CANDLE...|       8| 2010-12-06|      2.1|   15987.0|United Kingdom|     Monday|                4.0|      (5,[4],[1.0])|(7,[0,1,6],[2.1,8...|\n",
            "|   537226|    22927|GREEN GIANT GARDE...|       2| 2010-12-06|     5.95|   15987.0|United Kingdom|     Monday|                4.0|      (5,[4],[1.0])|(7,[0,1,6],[5.95,...|\n",
            "|   537226|    20802|SMALL GLASS SUNDA...|       6| 2010-12-06|     1.65|   15987.0|United Kingdom|     Monday|                4.0|      (5,[4],[1.0])|(7,[0,1,6],[1.65,...|\n",
            "|   537226|    22052|VINTAGE CARAVAN G...|      25| 2010-12-06|     0.42|   15987.0|United Kingdom|     Monday|                4.0|      (5,[4],[1.0])|(7,[0,1,6],[0.42,...|\n",
            "+---------+---------+--------------------+--------+-----------+---------+----------+--------------+-----------+-------------------+-------------------+--------------------+\n",
            "only showing top 5 rows\n",
            "\n"
          ]
        }
      ]
    },
    {
      "cell_type": "markdown",
      "source": [
        "**13 : Créer une instance de KMeans**"
      ],
      "metadata": {
        "id": "g0RXtHGXyx8D"
      }
    },
    {
      "cell_type": "code",
      "source": [
        "from pyspark.ml.clustering import KMeans\n",
        "\n",
        "# Créer une instance de KMeans avec 20 clusters\n",
        "kmeans = KMeans(k=20, featuresCol=\"features\", seed=42)\n"
      ],
      "metadata": {
        "id": "3MA8roDzy8UC"
      },
      "execution_count": null,
      "outputs": []
    },
    {
      "cell_type": "markdown",
      "source": [
        "**14 : Lancer l'apprentissage de KMeans**"
      ],
      "metadata": {
        "id": "XegG9i3My-2v"
      }
    },
    {
      "cell_type": "code",
      "source": [
        "# Entraîner le modèle KMeans\n",
        "kmeans_model = kmeans.fit(df_train_transformed)\n"
      ],
      "metadata": {
        "id": "qAuiGZc5zDL-"
      },
      "execution_count": null,
      "outputs": []
    },
    {
      "cell_type": "markdown",
      "source": [
        "15 : Prédire sur l'ensemble de test\n",
        "\n"
      ],
      "metadata": {
        "id": "r2c0jkZezFsG"
      }
    },
    {
      "cell_type": "code",
      "source": [
        "# Transformer les données de test en utilisant le pipeline\n",
        "test_transformed = model.transform(test_df)\n",
        "\n",
        "# Effectuer des prédictions sur l'ensemble de test\n",
        "predictions = kmeans_model.transform(test_transformed)\n"
      ],
      "metadata": {
        "id": "hObSRTIGzHgA"
      },
      "execution_count": null,
      "outputs": []
    },
    {
      "cell_type": "markdown",
      "source": [
        "16 : Calculer le coefficient de silhouette"
      ],
      "metadata": {
        "id": "2GyWrKIWzJbm"
      }
    },
    {
      "cell_type": "code",
      "source": [
        "from pyspark.ml.evaluation import ClusteringEvaluator\n",
        "\n",
        "# Calculer le coefficient de silhouette\n",
        "evaluator = ClusteringEvaluator(predictionCol=\"prediction\", featuresCol=\"features\", metricName=\"silhouette\")\n",
        "silhouette = evaluator.evaluate(predictions)\n",
        "print(f\"Coefficient de silhouette : {silhouette}\")\n"
      ],
      "metadata": {
        "colab": {
          "base_uri": "https://localhost:8080/"
        },
        "id": "BRk_mVTwzLWs",
        "outputId": "a78eec42-bc2a-4ee4-e6a2-a4a652ffdf39"
      },
      "execution_count": null,
      "outputs": [
        {
          "output_type": "stream",
          "name": "stdout",
          "text": [
            "Coefficient de silhouette : 0.744526969120679\n"
          ]
        }
      ]
    }
  ]
}